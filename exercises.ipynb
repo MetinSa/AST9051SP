{
 "cells": [
  {
   "cell_type": "markdown",
   "metadata": {},
   "source": []
  },
  {
   "cell_type": "markdown",
   "metadata": {},
   "source": [
    "## This notebook contains solutions to exercises 1, 2, 3, 10, 13 in Data analysis recipies: Fitting a model to data by David Hogg, Jo Bovy, and Dustin Lang."
   ]
  },
  {
   "cell_type": "code",
   "execution_count": null,
   "metadata": {},
   "outputs": [
    {
     "ename": "",
     "evalue": "",
     "output_type": "error",
     "traceback": [
      "\u001b[1;31mRunning cells with 'ast9251SP (Python 3.12.1)' requires the ipykernel package.\n",
      "\u001b[1;31mRun the following command to install 'ipykernel' into the Python environment. \n",
      "\u001b[1;31mCommand: 'conda install -n ast9251SP ipykernel --update-deps --force-reinstall'"
     ]
    }
   ],
   "source": [
    "# general imports for all coming exercises\n",
    "import numpy as np\n",
    "import matplotlib.pyplot as plt\n",
    "from pathlib import Path\n",
    "from functools import partial\n",
    "from matplotlib.patches import Ellipse\n",
    "\n",
    "\n",
    "# Types\n",
    "from typing import Callable\n",
    "Matrix = type[np.ndarray]\n",
    "Vector = type[np.ndarray]\n",
    "Function = Callable[[Vector], Vector]"
   ]
  },
  {
   "cell_type": "markdown",
   "metadata": {},
   "source": [
    "# Exercise 1: \n",
    "Use the standard linear algebra from Section 1. to fit the straight line $y = mx + b$ to the $x$, $y$, and $sigma_y$ values provided in the file `hogg-table1.txt`. We ignore the first four data points in the table."
   ]
  },
  {
   "cell_type": "markdown",
   "metadata": {},
   "source": []
  },
  {
   "cell_type": "code",
   "execution_count": null,
   "metadata": {},
   "outputs": [
    {
     "ename": "",
     "evalue": "",
     "output_type": "error",
     "traceback": [
      "\u001b[1;31mRunning cells with 'ast9251SP (Python 3.12.1)' requires the ipykernel package.\n",
      "\u001b[1;31mRun the following command to install 'ipykernel' into the Python environment. \n",
      "\u001b[1;31mCommand: 'conda install -n ast9251SP ipykernel --update-deps --force-reinstall'"
     ]
    }
   ],
   "source": [
    "\n",
    "TABLE_FILE = Path(\"../data/hogg-table1.txt\")\n",
    "table = np.loadtxt(TABLE_FILE, usecols=(1, 2, 3, 4, 5), unpack=True)\n"
   ]
  },
  {
   "cell_type": "markdown",
   "metadata": {},
   "source": [
    "We start by arranging the data in the table in to the vectors/matrices:\n",
    "\\begin{align*}\n",
    "    \\boldsymbol{Y} &= \\begin{bmatrix}\n",
    "        y_1 \\\\\n",
    "        y_2 \\\\\n",
    "        \\dots \\\\ \n",
    "        y_N\n",
    "    \\end{bmatrix}, \\\\\n",
    "    \\boldsymbol{A} &= \\begin{bmatrix}\n",
    "        1 & x_1 \\\\\n",
    "        1 & x_2 \\\\\n",
    "    \\dots & \\dots\\\\ \n",
    "        1 & x_N\n",
    "    \\end{bmatrix}, \\\\\n",
    "        \\boldsymbol{C} &= \\begin{bmatrix}\n",
    "        \\sigma^2_{y_1} & 0 & \\dots & 0 \\\\\n",
    "        0 &  \\sigma^2_{y_2} & \\dots & 0 \\\\\n",
    "        \\dots & \\dots & \\dots & \\dots & \\\\\n",
    "        0 & 0 & \\dots & \\sigma^2_{y_N} \\\\\n",
    "    \\end{bmatrix}\n",
    "\\end{align*}"
   ]
  },
  {
   "cell_type": "code",
   "execution_count": null,
   "metadata": {},
   "outputs": [
    {
     "ename": "",
     "evalue": "",
     "output_type": "error",
     "traceback": [
      "\u001b[1;31mRunning cells with 'ast9251SP (Python 3.12.1)' requires the ipykernel package.\n",
      "\u001b[1;31mRun the following command to install 'ipykernel' into the Python environment. \n",
      "\u001b[1;31mCommand: 'conda install -n ast9251SP ipykernel --update-deps --force-reinstall'"
     ]
    }
   ],
   "source": [
    "x, y, sigma_y = table[:, 5:][:3] # columns for x, y, and sigma_y\n",
    "\n",
    "A = np.vstack([np.ones(len(x)), x]).T\n",
    "C = np.diag(sigma_y**2)\n",
    "Y = y"
   ]
  },
  {
   "cell_type": "markdown",
   "metadata": {},
   "source": [
    "We can then solve the normal equations:\n",
    "\n",
    "\\begin{align*}\n",
    "    \\begin{bmatrix}\n",
    "        b \\\\ m\n",
    "    \\end{bmatrix}\n",
    "     = \\boldsymbol{X} = \\left[ \\boldsymbol{A}^{\\mathrm{T}}  \\boldsymbol{C}^{\\mathrm{-1}} \\boldsymbol{A} \\right]^{-1} \\left[ \\boldsymbol{A}^{\\mathrm{T}}  \\boldsymbol{C}^{\\mathrm{-1}} \\boldsymbol{Y} \\right]\n",
    "\\end{align*}"
   ]
  },
  {
   "cell_type": "markdown",
   "metadata": {},
   "source": []
  },
  {
   "cell_type": "code",
   "execution_count": null,
   "metadata": {},
   "outputs": [
    {
     "ename": "",
     "evalue": "",
     "output_type": "error",
     "traceback": [
      "\u001b[1;31mRunning cells with 'ast9251SP (Python 3.12.1)' requires the ipykernel package.\n",
      "\u001b[1;31mRun the following command to install 'ipykernel' into the Python environment. \n",
      "\u001b[1;31mCommand: 'conda install -n ast9251SP ipykernel --update-deps --force-reinstall'"
     ]
    }
   ],
   "source": [
    "def solve_normal_equations(A: Matrix, C: Matrix, Y: Vector) -> Vector:\n",
    "    \"\"\"Solves the equation X = [A^T C^{-1} A]^{-1} [A^T C^{-1} Y].\"\"\"\n",
    "    C_inv = np.linalg.inv(C)\n",
    "    sigma_inv = np.linalg.inv(A.T @ C_inv @ A)\n",
    "    return sigma_inv @ (A.T @ C_inv @ Y)\n",
    "    "
   ]
  },
  {
   "cell_type": "code",
   "execution_count": null,
   "metadata": {},
   "outputs": [
    {
     "ename": "",
     "evalue": "",
     "output_type": "error",
     "traceback": [
      "\u001b[1;31mRunning cells with 'ast9251SP (Python 3.12.1)' requires the ipykernel package.\n",
      "\u001b[1;31mRun the following command to install 'ipykernel' into the Python environment. \n",
      "\u001b[1;31mCommand: 'conda install -n ast9251SP ipykernel --update-deps --force-reinstall'"
     ]
    }
   ],
   "source": [
    "b, m = solve_normal_equations(A, C, Y)\n",
    "b, m"
   ]
  },
  {
   "cell_type": "markdown",
   "metadata": {},
   "source": [
    "To get the uncertianties $\\sigma_b$ and $\\sigma_m$ we need to take the diagonal of the covariance matrix \n",
    "\\begin{equation*}\n",
    "\\begin{bmatrix}\n",
    "\\sigma_b \\\\ \n",
    "\\sigma_m\n",
    "\\end{bmatrix} = \\mathrm{diag}\\left( \n",
    "    \\begin{bmatrix}\n",
    "    \\sigma_b^2 & \\sigma_{mb}\\\\\n",
    "    \\sigma_{mb} & \\sigma_m^2\n",
    "    \\end{bmatrix}\n",
    " \\right)\n",
    "\\end{equation*},\n",
    "where\n",
    "\\begin{equation*}\n",
    "    \\begin{bmatrix}\n",
    "    \\sigma_b^2 & \\sigma_{mb}\\\\\n",
    "    \\sigma_{mb} & \\sigma_m^2\n",
    "    \\end{bmatrix} = \n",
    "    \\left[ \\boldsymbol{A}^{\\mathrm{T}}  \\boldsymbol{C}^{\\mathrm{-1}} \\boldsymbol{A} \\right]^{-1}\n",
    "\\end{equation*}\n",
    "is the covariance matrix"
   ]
  },
  {
   "cell_type": "code",
   "execution_count": null,
   "metadata": {},
   "outputs": [
    {
     "ename": "",
     "evalue": "",
     "output_type": "error",
     "traceback": [
      "\u001b[1;31mRunning cells with 'ast9251SP (Python 3.12.1)' requires the ipykernel package.\n",
      "\u001b[1;31mRun the following command to install 'ipykernel' into the Python environment. \n",
      "\u001b[1;31mCommand: 'conda install -n ast9251SP ipykernel --update-deps --force-reinstall'"
     ]
    }
   ],
   "source": [
    "def get_sigma_X(A: Matrix, C: Matrix) -> Vector:\n",
    "    \"\"\"Computes the uncertianty of the variables fit.\"\"\"\n",
    "    C_inv = np.linalg.inv(C)\n",
    "    sigma_inv = np.linalg.inv(A.T @ C_inv @ A)\n",
    "    return np.sqrt(sigma_inv.diagonal())"
   ]
  },
  {
   "cell_type": "code",
   "execution_count": null,
   "metadata": {},
   "outputs": [
    {
     "ename": "",
     "evalue": "",
     "output_type": "error",
     "traceback": [
      "\u001b[1;31mRunning cells with 'ast9251SP (Python 3.12.1)' requires the ipykernel package.\n",
      "\u001b[1;31mRun the following command to install 'ipykernel' into the Python environment. \n",
      "\u001b[1;31mCommand: 'conda install -n ast9251SP ipykernel --update-deps --force-reinstall'"
     ]
    }
   ],
   "source": [
    "sigma_b, sigma_m = get_sigma_X(A, C)\n",
    "sigma_b, sigma_m"
   ]
  },
  {
   "cell_type": "markdown",
   "metadata": {},
   "source": [
    "We plot the data and the best fit line $y = mx + b$ along with the uncertianties in $m$ and $b$:"
   ]
  },
  {
   "cell_type": "code",
   "execution_count": null,
   "metadata": {},
   "outputs": [
    {
     "ename": "",
     "evalue": "",
     "output_type": "error",
     "traceback": [
      "\u001b[1;31mRunning cells with 'ast9251SP (Python 3.12.1)' requires the ipykernel package.\n",
      "\u001b[1;31mRun the following command to install 'ipykernel' into the Python environment. \n",
      "\u001b[1;31mCommand: 'conda install -n ast9251SP ipykernel --update-deps --force-reinstall'"
     ]
    }
   ],
   "source": [
    "def evaluate_linear_model(x: Vector, b: float, m: float) -> Vector:\n",
    "    \"\"\"Evaluate the linear model in excercise 1.\"\"\"\n",
    "    return m * x + b"
   ]
  },
  {
   "cell_type": "code",
   "execution_count": null,
   "metadata": {},
   "outputs": [
    {
     "ename": "",
     "evalue": "",
     "output_type": "error",
     "traceback": [
      "\u001b[1;31mRunning cells with 'ast9251SP (Python 3.12.1)' requires the ipykernel package.\n",
      "\u001b[1;31mRun the following command to install 'ipykernel' into the Python environment. \n",
      "\u001b[1;31mCommand: 'conda install -n ast9251SP ipykernel --update-deps --force-reinstall'"
     ]
    }
   ],
   "source": [
    "x_new = np.linspace(0, 300, 20) \n",
    "y_hat = evaluate_linear_model(x_new, b, m)\n",
    "\n",
    "plt.errorbar(x, y, yerr=sigma_y, fmt=\"o\")\n",
    "plt.plot(x_new, y_hat, label=rf\"$y = {{{m:.2f}}} \\pm {{{sigma_m:.2f}}}x + {b:.2f} \\pm {{{sigma_b:.2f}}}$\")\n",
    "plt.legend()\n",
    "plt.xlabel(\"$x$\")\n",
    "plt.ylabel(\"$y$\")"
   ]
  },
  {
   "cell_type": "markdown",
   "metadata": {},
   "source": [
    "## Exercise 2:\n",
    "\n",
    "We repeat the above calculating but for all the data points in the original table"
   ]
  },
  {
   "cell_type": "code",
   "execution_count": null,
   "metadata": {},
   "outputs": [
    {
     "ename": "",
     "evalue": "",
     "output_type": "error",
     "traceback": [
      "\u001b[1;31mRunning cells with 'ast9251SP (Python 3.12.1)' requires the ipykernel package.\n",
      "\u001b[1;31mRun the following command to install 'ipykernel' into the Python environment. \n",
      "\u001b[1;31mCommand: 'conda install -n ast9251SP ipykernel --update-deps --force-reinstall'"
     ]
    }
   ],
   "source": [
    "x, y, sigma_y = table[:3]\n",
    "A = np.vstack([np.ones(len(x)), x]).T\n",
    "C = np.diag(sigma_y**2)\n",
    "Y = y\n",
    "\n",
    "b, m = solve_normal_equations(A, C, Y)\n",
    "b, m"
   ]
  },
  {
   "cell_type": "code",
   "execution_count": null,
   "metadata": {},
   "outputs": [
    {
     "ename": "",
     "evalue": "",
     "output_type": "error",
     "traceback": [
      "\u001b[1;31mRunning cells with 'ast9251SP (Python 3.12.1)' requires the ipykernel package.\n",
      "\u001b[1;31mRun the following command to install 'ipykernel' into the Python environment. \n",
      "\u001b[1;31mCommand: 'conda install -n ast9251SP ipykernel --update-deps --force-reinstall'"
     ]
    }
   ],
   "source": [
    "sigma_b, sigma_m = get_sigma_X(A, C)\n",
    "sigma_b, sigma_m"
   ]
  },
  {
   "cell_type": "code",
   "execution_count": null,
   "metadata": {},
   "outputs": [
    {
     "ename": "",
     "evalue": "",
     "output_type": "error",
     "traceback": [
      "\u001b[1;31mRunning cells with 'ast9251SP (Python 3.12.1)' requires the ipykernel package.\n",
      "\u001b[1;31mRun the following command to install 'ipykernel' into the Python environment. \n",
      "\u001b[1;31mCommand: 'conda install -n ast9251SP ipykernel --update-deps --force-reinstall'"
     ]
    }
   ],
   "source": [
    "x_new = np.linspace(0, 300, 20) \n",
    "y_hat = evaluate_linear_model(x_new, b, m)\n",
    "\n",
    "plt.errorbar(x, y, yerr=sigma_y, fmt=\"o\")\n",
    "plt.plot(x_new, y_hat, label=rf\"$y = ({{{m:.2f}}} \\pm {{{sigma_m:.2f}}})x + ({b:.2f} \\pm {{{sigma_b:.2f}}})$\")\n",
    "plt.legend()\n",
    "plt.xlabel(\"$x$\")\n",
    "plt.ylabel(\"$y$\")"
   ]
  },
  {
   "cell_type": "markdown",
   "metadata": {},
   "source": [
    "The new data points are some pretty big outliers which result in half as big of a slope. "
   ]
  },
  {
   "cell_type": "markdown",
   "metadata": {},
   "source": [
    "## Exercise 3:\n",
    "We will now repeat the fit in exercise one but with a quadratic equation on the form $g(x) = q x^2 + m x + b$"
   ]
  },
  {
   "cell_type": "code",
   "execution_count": null,
   "metadata": {},
   "outputs": [
    {
     "ename": "",
     "evalue": "",
     "output_type": "error",
     "traceback": [
      "\u001b[1;31mRunning cells with 'ast9251SP (Python 3.12.1)' requires the ipykernel package.\n",
      "\u001b[1;31mRun the following command to install 'ipykernel' into the Python environment. \n",
      "\u001b[1;31mCommand: 'conda install -n ast9251SP ipykernel --update-deps --force-reinstall'"
     ]
    }
   ],
   "source": [
    "def evaluate_quadratic_model(x: Vector, q: float, m: float, b: float) -> Vector:\n",
    "    \"\"\"Evaluate the quadratic model in exercise 3.\"\"\"\n",
    "    return q * x**2 + m * x + b"
   ]
  },
  {
   "cell_type": "markdown",
   "metadata": {},
   "source": [
    "We can solve for $q$, $m$, and $b$ using the same method as before by adding another column to the matrix $\\boldsymbol{A}$ which contains the $x^2$ values:\n",
    "\n",
    "\\begin{align}\n",
    "    \\boldsymbol{A} &= \\begin{bmatrix}\n",
    "        1 & x_1 & x_1^2 \\\\\n",
    "        1 & x_2 & x_2^2 \\\\\n",
    "         & \\dots &  \\\\ \n",
    "        1 & x_N & x_N^2\n",
    "    \\end{bmatrix}. \\\\\n",
    "\\end{align}\n",
    "\n",
    "Solving the normal equations now give us an additional fit for $q$:\n",
    "\n",
    "\\begin{align*}\n",
    "    \\begin{bmatrix}\n",
    "        b \\\\ m \\\\ q\n",
    "    \\end{bmatrix}\n",
    "     = \\boldsymbol{X} = \\left[ \\boldsymbol{A}^{\\mathrm{T}}  \\boldsymbol{C}^{\\mathrm{-1}} \\boldsymbol{A} \\right]^{-1} \\left[ \\boldsymbol{A}^{\\mathrm{T}}  \\boldsymbol{C}^{\\mathrm{-1}} \\boldsymbol{Y} \\right]\n",
    "\\end{align*}"
   ]
  },
  {
   "cell_type": "code",
   "execution_count": null,
   "metadata": {},
   "outputs": [
    {
     "ename": "",
     "evalue": "",
     "output_type": "error",
     "traceback": [
      "\u001b[1;31mRunning cells with 'ast9251SP (Python 3.12.1)' requires the ipykernel package.\n",
      "\u001b[1;31mRun the following command to install 'ipykernel' into the Python environment. \n",
      "\u001b[1;31mCommand: 'conda install -n ast9251SP ipykernel --update-deps --force-reinstall'"
     ]
    }
   ],
   "source": [
    "x, y, sigma_y = table[:, 5:][0:3]\n",
    "A = np.vstack([np.ones(len(x)), x, x**2]).T\n",
    "C = np.diag(sigma_y**2)\n",
    "Y = y\n",
    "\n",
    "b, m, q = solve_normal_equations(A, C, Y)\n",
    "b, m, q"
   ]
  },
  {
   "cell_type": "markdown",
   "metadata": {},
   "source": [
    "We then get the uncertianties like earlier:"
   ]
  },
  {
   "cell_type": "code",
   "execution_count": null,
   "metadata": {},
   "outputs": [
    {
     "ename": "",
     "evalue": "",
     "output_type": "error",
     "traceback": [
      "\u001b[1;31mRunning cells with 'ast9251SP (Python 3.12.1)' requires the ipykernel package.\n",
      "\u001b[1;31mRun the following command to install 'ipykernel' into the Python environment. \n",
      "\u001b[1;31mCommand: 'conda install -n ast9251SP ipykernel --update-deps --force-reinstall'"
     ]
    }
   ],
   "source": [
    "sigma_b, sigma_m, sigma_q = get_sigma_X(A, C)\n",
    "sigma_b, sigma_m, sigma_q"
   ]
  },
  {
   "cell_type": "code",
   "execution_count": null,
   "metadata": {},
   "outputs": [
    {
     "ename": "",
     "evalue": "",
     "output_type": "error",
     "traceback": [
      "\u001b[1;31mRunning cells with 'ast9251SP (Python 3.12.1)' requires the ipykernel package.\n",
      "\u001b[1;31mRun the following command to install 'ipykernel' into the Python environment. \n",
      "\u001b[1;31mCommand: 'conda install -n ast9251SP ipykernel --update-deps --force-reinstall'"
     ]
    }
   ],
   "source": [
    "x_new = np.linspace(0, 300, 20) \n",
    "y_hat = evaluate_quadratic_model(x_new, q, m, b)\n",
    "\n",
    "plt.errorbar(x, y, yerr=sigma_y, fmt=\"o\")\n",
    "plt.plot(x_new, y_hat, label=rf\"$y = ({{{q:.4f}}} \\pm {{{sigma_q:.4f}}})x^2 + ({{{m:.2f}}} \\pm {{{sigma_m:.2f}}})x + ({b:.2f} \\pm {{{sigma_b:.2f}}})$\")\n",
    "plt.legend()\n",
    "plt.xlabel(\"$x$\")\n",
    "plt.ylabel(\"$y$\")"
   ]
  },
  {
   "cell_type": "markdown",
   "metadata": {},
   "source": [
    "## Exercise 10:\n",
    "We want to compute the $\\chi^2$, the total error squared scaled by the uncertianties, of the model in exercise 1. The chi^2 is given by\n",
    "\\begin{equation*}\n",
    "    \\chi^2 = \\sum^N_{i=1} \\frac{\\left[ y_i - f(x_i) \\right]^2}{\\sigma^2_{y_i}}\n",
    "\\end{equation*},\n",
    "which in linear algebra notation is\n",
    "\\begin{equation*}\n",
    "\\chi^2 \\equiv \\left[ \\boldsymbol{Y} - \\boldsymbol{A}\\boldsymbol{X} \\right]^T \\boldsymbol{C}^{-1} \\left[ \\boldsymbol{Y} - \\boldsymbol{A}\\boldsymbol{X} \\right]\n",
    "\\end{equation*}.\n",
    "\n",
    "Below we implement the two definitions of the $\\chi^2$:"
   ]
  },
  {
   "cell_type": "code",
   "execution_count": null,
   "metadata": {},
   "outputs": [
    {
     "ename": "",
     "evalue": "",
     "output_type": "error",
     "traceback": [
      "\u001b[1;31mRunning cells with 'ast9251SP (Python 3.12.1)' requires the ipykernel package.\n",
      "\u001b[1;31mRun the following command to install 'ipykernel' into the Python environment. \n",
      "\u001b[1;31mCommand: 'conda install -n ast9251SP ipykernel --update-deps --force-reinstall'"
     ]
    }
   ],
   "source": [
    "def get_chi_squared(y: Vector, fn: Function, x: Vector, sigma_y: Vector) -> float:\n",
    "    \"\"\"Computes the chi squared value.\"\"\"\n",
    "    return np.sum((y - fn(x))**2 / sigma_y**2)\n",
    "\n",
    "def get_chi_squared_linalg(A: Matrix, C: Matrix, Y: Vector, X: Vector) -> float:\n",
    "    \"\"\"Computes the chi squared value in matrix notation.\"\"\"\n",
    "    return (Y - A @ X).T @ np.linalg.inv(C) @ (Y - A @ X)"
   ]
  },
  {
   "cell_type": "markdown",
   "metadata": {},
   "source": [
    "We make sure they return the same $\\chi^2$ for the same model ($f(x)$ or $\\boldsymbol{A}\\boldsymbol{X}$):"
   ]
  },
  {
   "cell_type": "code",
   "execution_count": null,
   "metadata": {},
   "outputs": [
    {
     "ename": "",
     "evalue": "",
     "output_type": "error",
     "traceback": [
      "\u001b[1;31mRunning cells with 'ast9251SP (Python 3.12.1)' requires the ipykernel package.\n",
      "\u001b[1;31mRun the following command to install 'ipykernel' into the Python environment. \n",
      "\u001b[1;31mCommand: 'conda install -n ast9251SP ipykernel --update-deps --force-reinstall'"
     ]
    }
   ],
   "source": [
    "x, y, sigma_y = table[:, 5:][0:3] # columns for x, y, and sigma_y as before in excerise 1\n",
    "\n",
    "A = np.vstack([np.ones(len(x)), x]).T\n",
    "C = np.diag(sigma_y**2)\n",
    "Y = y\n",
    "b, m = solve_normal_equations(A, C, Y)\n",
    "\n",
    "eval_model_ex1 = partial(evaluate_linear_model, b=b, m=m) # make a partial function with the fitted parameters for the linear model\n",
    "\n",
    "chisq1 = get_chi_squared(y, eval_model_ex1, x, sigma_y)\n",
    "chisq2 = get_chi_squared_linalg(A, C, Y, [b, m])\n",
    "chisq1, chisq2"
   ]
  },
  {
   "cell_type": "markdown",
   "metadata": {},
   "source": [
    "We now do the same $\\chi^2$ evaluation but for the model in exercise 2 where we have included the *bad* data points:"
   ]
  },
  {
   "cell_type": "code",
   "execution_count": null,
   "metadata": {},
   "outputs": [
    {
     "ename": "",
     "evalue": "",
     "output_type": "error",
     "traceback": [
      "\u001b[1;31mRunning cells with 'ast9251SP (Python 3.12.1)' requires the ipykernel package.\n",
      "\u001b[1;31mRun the following command to install 'ipykernel' into the Python environment. \n",
      "\u001b[1;31mCommand: 'conda install -n ast9251SP ipykernel --update-deps --force-reinstall'"
     ]
    }
   ],
   "source": [
    "x, y, sigma_y = table[0:3] # columns for x, y, and sigma_y as before in excerise 1\n",
    "\n",
    "A = np.vstack([np.ones(len(x)), x]).T\n",
    "C = np.diag(sigma_y**2)\n",
    "Y = y\n",
    "b, m = solve_normal_equations(A, C, Y)\n",
    "\n",
    "eval_model_ex1 = partial(evaluate_linear_model, b=b, m=m) # make a partial function with the fitted parameters for the linear model\n",
    "\n",
    "chisq1 = get_chi_squared(y, eval_model_ex1, x, sigma_y)\n",
    "chisq2 = get_chi_squared_linalg(A, C, Y, [b, m])\n",
    "chisq1, chisq2"
   ]
  },
  {
   "cell_type": "markdown",
   "metadata": {},
   "source": [
    "The $\\chi^2$ in the second exercise is much larger than the one in exercise 1 as was expected from the inclusion of the data points that didnt appear to fit the linear model. "
   ]
  },
  {
   "cell_type": "markdown",
   "metadata": {},
   "source": [
    "## Exercise 13:\n",
    "When solving for $b$ and $m$, we realize that not all values for $m$ are equally likely when fitting a line. Using the line given by $y = m x + b$ clums most possible lines close to $\\pm \\pi / 2$ as we can see below:"
   ]
  },
  {
   "cell_type": "code",
   "execution_count": null,
   "metadata": {},
   "outputs": [
    {
     "ename": "",
     "evalue": "",
     "output_type": "error",
     "traceback": [
      "\u001b[1;31mRunning cells with 'ast9251SP (Python 3.12.1)' requires the ipykernel package.\n",
      "\u001b[1;31mRun the following command to install 'ipykernel' into the Python environment. \n",
      "\u001b[1;31mCommand: 'conda install -n ast9251SP ipykernel --update-deps --force-reinstall'"
     ]
    }
   ],
   "source": [
    "x = np.linspace(0, 10, 10)\n",
    "ms = np.arange(0, 100)\n",
    "b = 0\n",
    "colors = plt.cm.viridis(np.linspace(0,1,len(ms)))\n",
    "for m, color in zip(ms, colors):\n",
    "    y = evaluate_linear_model(x, b, m)\n",
    "    plt.plot(x, y)\n",
    "\n",
    "plt.ylim(0, 10)\n",
    "plt.xlim(0, 10)"
   ]
  },
  {
   "cell_type": "markdown",
   "metadata": {},
   "source": [
    "This means that we are essentially using a non-uniform prior on our lines. If we instead use the angle $\\theta = \\arctan m$ \n",
    "and $b_{\\bot} = b \\cos \\theta$ which is the perpendicular distance of the line from the origin, we see that we get a uniform distribution lines:"
   ]
  },
  {
   "cell_type": "code",
   "execution_count": null,
   "metadata": {},
   "outputs": [
    {
     "ename": "",
     "evalue": "",
     "output_type": "error",
     "traceback": [
      "\u001b[1;31mRunning cells with 'ast9251SP (Python 3.12.1)' requires the ipykernel package.\n",
      "\u001b[1;31mRun the following command to install 'ipykernel' into the Python environment. \n",
      "\u001b[1;31mCommand: 'conda install -n ast9251SP ipykernel --update-deps --force-reinstall'"
     ]
    }
   ],
   "source": [
    "thetas = np.linspace(0, np.pi, 100)\n",
    "x = np.linspace(0, 10, 10)\n",
    "b = 0\n",
    "for theta in thetas:\n",
    "    y = evaluate_linear_model(x, b * np.cos(theta), np.tan(theta))\n",
    "    plt.plot(x, y, label=f\"{theta=}\")\n",
    "plt.ylim(0, 10)\n",
    "plt.xlim(0, 10)"
   ]
  },
  {
   "cell_type": "markdown",
   "metadata": {},
   "source": [
    "Meaning we should fit for $(\\theta, b_{\\bot})$ going forward."
   ]
  },
  {
   "cell_type": "markdown",
   "metadata": {},
   "source": [
    "What happens if we now include the uncertianties to the $x$ positions, $\\sigma_x$? The full covariance metrix in this case becomes\n",
    "\\begin{equation*}\n",
    "\\boldsymbol{S}_i \\equiv \n",
    "\\begin{bmatrix} \n",
    "    \\sigma^2_{xi} & \\sigma_{xyi} \\\\\n",
    "    \\sigma_{xyi} & \\sigma^2_{yi}\\\\\n",
    "\\end{bmatrix}\n",
    "\\end{equation*},\n",
    "with $\\sigma_{xyi} = \\rho_{xyi}\\sigma_{xi} \\sigma{y_i}$ where $\\rho_xy$ are extracted from the final column in the table. \n",
    "\n",
    "Similarely, probability of getting the measurement ($x_i$, $y_i$) is now given by a two-dimensional Gaussian instead on the form\n",
    "\\begin{equation*}\n",
    "    p\\left(x_i, y_i |\\boldsymbol{S}_i, x, y\\right) = \\frac{1}{2\\pi \\sqrt{\\det (\\boldsymbol{S}_i)}} \\exp \\left( - \\frac{1}{2} \\left[\\boldsymbol{Z}_i - \\boldsymbol{Z} \\right]^{\\top} \\boldsymbol{S}_i^{-1} \\left[\\boldsymbol{Z}_i - \\boldsymbol{Z} \\right]\\right)\n",
    "\\end{equation*},\n",
    "\n",
    "where we have made the column vectors\n",
    "\n",
    "\\begin{equation*}\n",
    "    \\boldsymbol{Z} = \n",
    "    \\begin{bmatrix} \n",
    "    x \\\\ \n",
    "    y \n",
    "    \\end{bmatrix}\n",
    "\\end{equation*}\n",
    "\n",
    "\\begin{equation*}\n",
    "    \\boldsymbol{Z}_i = \n",
    "    \\begin{bmatrix} \n",
    "    x_i \\\\ \n",
    "    y_i \n",
    "    \\end{bmatrix}\n",
    "\\end{equation*}"
   ]
  },
  {
   "cell_type": "code",
   "execution_count": null,
   "metadata": {},
   "outputs": [
    {
     "ename": "",
     "evalue": "",
     "output_type": "error",
     "traceback": [
      "\u001b[1;31mRunning cells with 'ast9251SP (Python 3.12.1)' requires the ipykernel package.\n",
      "\u001b[1;31mRun the following command to install 'ipykernel' into the Python environment. \n",
      "\u001b[1;31mCommand: 'conda install -n ast9251SP ipykernel --update-deps --force-reinstall'"
     ]
    }
   ],
   "source": [
    "x, y, sigma_y, sigma_x, rho_xy = table[:, 5:]\n",
    "\n",
    "Z = np.vstack([x, y]).T\n",
    "\n",
    "S = np.zeros((len(x), 2, 2))\n",
    "for idx, (sigma_xi, sigma_yi, rho_xyi) in enumerate(zip(sigma_x, sigma_y, rho_xy)):\n",
    "    S[idx] = np.diag([sigma_xi**2, sigma_yi**2])\n",
    "    sigma_xyi = sigma_xi * sigma_yi * rho_xyi\n",
    "    S[idx, 0, 1] = S[idx, 1, 0] = sigma_xyi"
   ]
  },
  {
   "cell_type": "markdown",
   "metadata": {},
   "source": [
    "Now how do we fit a line in this two-dimentional case? Instead of looking at the y-axis displacement, we now need a two-dimensional displacement. One way to do this is to describe the slope $m$ of a line in terms of an unit vector $\\hat{\\boldsymbol{v}}$ that is *orthogonal* to the that line\n",
    "\\begin{equation*}\n",
    "    \\hat{\\boldsymbol{v}} = \\frac{1}{\\sqrt{1 + m^2}} \n",
    "    \\begin{bmatrix} \n",
    "    -m \\\\\n",
    "    1\n",
    "    \\end{bmatrix}\n",
    "    =    \n",
    "    \\begin{bmatrix} \n",
    "    -\\sin \\theta \\\\\n",
    "    \\cos \\theta\n",
    "    \\end{bmatrix}\n",
    "\\end{equation*},\n",
    "\n",
    "The two-dimensional orthogonal displacement $\\Delta_i$ of each data point ($x_i$, $y_i$) from the line is then given by\n",
    "\\begin{equation*}\n",
    "    \\Delta_i = \\hat{\\boldsymbol{v}}^{\\top} \\boldsymbol{Z}_i - b \\cos \\theta\n",
    "\\end{equation*}\n",
    "\n",
    "Similiarely, the full two-dimensional covariance matrix $\\boldsymbol{S}_i$ needs to be projected down to this new orthogonal to the line coordinate system:\n",
    "\\begin{equation*}\n",
    "    \\Sigma_i^2 = \\hat{\\boldsymbol{v}}^{\\top} \\boldsymbol{S}_i \\hat{\\boldsymbol{v}}\n",
    "\\end{equation*}\n",
    "\n",
    "The new $\\chi^2$ then becomes:\n",
    "\\begin{equation*}\n",
    "    \\chi^2 = \\sum^N_{i=1} \\frac{\\Delta_i^2}{\\Sigma^2_i}.\n",
    "\\end{equation*}\n",
    "\n",
    "Im not sure wether or not there is an analytic maximum likelihood solution to this two-dimensional problem, but one way to maximize the likelihood is to perform a grid search on two parameters $\\theta$ and $b_\\bot$"
   ]
  },
  {
   "cell_type": "code",
   "execution_count": null,
   "metadata": {},
   "outputs": [
    {
     "ename": "",
     "evalue": "",
     "output_type": "error",
     "traceback": [
      "\u001b[1;31mRunning cells with 'ast9251SP (Python 3.12.1)' requires the ipykernel package.\n",
      "\u001b[1;31mRun the following command to install 'ipykernel' into the Python environment. \n",
      "\u001b[1;31mCommand: 'conda install -n ast9251SP ipykernel --update-deps --force-reinstall'"
     ]
    }
   ],
   "source": [
    "x, y, sigma_y, sigma_x, rho_xy = table[:, 5:]\n",
    "\n",
    "theta_grid = np.linspace(0, np.pi, 100)\n",
    "b_perp_grid = np.linspace(0, 100, 100)\n",
    "\n",
    "chisqs: dict[tuple[int, int], float] = {}\n",
    "for theta_idx, theta in enumerate(theta_grid):\n",
    "    v_hat = np.array([-np.sin(theta), np.cos(theta)])\n",
    "    for b_perp_idx, b_perp in enumerate(b_perp_grid):\n",
    "\n",
    "        chisqs[theta_idx, b_perp_idx] = 0\n",
    "        for x_i, y_i, sigma_y_i, sigma_x_i, rho_xy_i in zip(x, y, sigma_y, sigma_x, rho_xy):\n",
    "            S = np.diag([sigma_x_i**2, sigma_y_i**2])\n",
    "            sigma_xy = sigma_x_i * sigma_y_i * rho_xy_i\n",
    "            S[0, 1] = S[1, 0] = sigma_xy\n",
    "            Z = np.array([x_i, y_i])\n",
    "            Delta_i = v_hat.T  @ Z - b_perp\n",
    "            Sigma_sq = v_hat.T @ S @ v_hat\n",
    "            chisqs[theta_idx, b_perp_idx] += Delta_i**2 / Sigma_sq\n",
    "\n",
    "\n",
    "theta_idx, b_perp_idx = min(chisqs, key=chisqs.get)\n",
    "theta = theta_grid[theta_idx]\n",
    "b_perp = b_perp_grid[b_perp_idx]\n",
    "\n",
    "# get the slope and intercept from the orthogonal model\n",
    "m = np.tan(theta)\n",
    "b = b_perp / np.cos(theta)\n",
    "\n",
    "x_new = np.linspace(0, 300, 20) \n",
    "y_hat = evaluate_linear_model(x_new, b, m)\n",
    "\n",
    "fig, ax = plt.subplots()\n",
    "ax.plot(x, y, \"o\")\n",
    "ax.plot(x_new, y_hat, label=rf\"$y = {{{m:.2f}}}x + {b:.2f}$\")\n",
    "\n",
    "for xi, yi, sigma_xi, sigma_yi, rho_xyi in zip(x, y, sigma_x, sigma_y, rho_xy):\n",
    "    a = sigma_xi**2\n",
    "    c = sigma_yi**2\n",
    "    b = rho_xyi * sigma_xi * sigma_yi\n",
    "\n",
    "    lambda1 = (a + c)/2 + np.sqrt((a - c)**2/4 + b**2)\n",
    "    lambda2 = (a + c)/2 - np.sqrt((a - c)**2/4 + b**2)\n",
    "\n",
    "    theta = np.arctan2(lambda1 - a, b)\n",
    "    ax.add_artist(Ellipse([xi, yi], 2*np.sqrt(lambda1), 2*np.sqrt(lambda2), angle=np.rad2deg(theta), fill=False))\n",
    "\n",
    "plt.xlabel(\"$x$\")\n",
    "plt.ylabel(\"$y$\")\n",
    "\n"
   ]
  },
  {
   "cell_type": "code",
   "execution_count": null,
   "metadata": {},
   "outputs": [
    {
     "ename": "",
     "evalue": "",
     "output_type": "error",
     "traceback": [
      "\u001b[1;31mRunning cells with 'ast9251SP (Python 3.12.1)' requires the ipykernel package.\n",
      "\u001b[1;31mRun the following command to install 'ipykernel' into the Python environment. \n",
      "\u001b[1;31mCommand: 'conda install -n ast9251SP ipykernel --update-deps --force-reinstall'"
     ]
    }
   ],
   "source": []
  }
 ],
 "metadata": {
  "kernelspec": {
   "display_name": "py311",
   "language": "python",
   "name": "python3"
  },
  "language_info": {
   "codemirror_mode": {
    "name": "ipython",
    "version": 3
   },
   "file_extension": ".py",
   "mimetype": "text/x-python",
   "name": "python",
   "nbconvert_exporter": "python",
   "pygments_lexer": "ipython3",
   "version": "3.12.1"
  }
 },
 "nbformat": 4,
 "nbformat_minor": 2
}

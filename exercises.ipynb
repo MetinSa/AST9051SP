{
 "cells": [
  {
   "cell_type": "markdown",
   "metadata": {},
   "source": []
  },
  {
   "cell_type": "markdown",
   "metadata": {},
   "source": [
    "## This notebook contains solutions to exercises 1, 2, 3, 10, 12 in Data analysis recipies: Fitting a model to data by David Hogg, Jo Bovy, and Dustin Lang."
   ]
  },
  {
   "cell_type": "code",
   "execution_count": 117,
   "metadata": {},
   "outputs": [],
   "source": [
    "# general imports for all coming exercises\n",
    "import numpy as np\n",
    "import matplotlib.pyplot as plt\n",
    "from pathlib import Path\n",
    "from functools import partial\n",
    "\n",
    "# Types\n",
    "from typing import TypeAlias, Callable\n",
    "Matrix: TypeAlias = np.ndarray\n",
    "Vector: TypeAlias = np.ndarray\n",
    "Function: TypeAlias = Callable[[Vector], Vector]"
   ]
  },
  {
   "cell_type": "markdown",
   "metadata": {},
   "source": [
    "# Exercise 1: \n",
    "Use the standard linear algebra from Section 1. to fit the straight line $y = mx + b$ to the $x$, $y$, and $sigma_y$ values provided in the file `hogg-table1.txt`. We ignore the first four data points in the table."
   ]
  },
  {
   "cell_type": "markdown",
   "metadata": {},
   "source": []
  },
  {
   "cell_type": "code",
   "execution_count": 155,
   "metadata": {},
   "outputs": [],
   "source": [
    "\n",
    "TABLE_FILE = Path(\"hogg-table1.txt\")\n",
    "table = np.loadtxt(TABLE_FILE, usecols=(1, 2, 3, 4, 5), unpack=True)\n"
   ]
  },
  {
   "cell_type": "markdown",
   "metadata": {},
   "source": [
    "We start by arranging the data in the table in to the vectors/matrices:\n",
    "\\begin{align*}\n",
    "    \\boldsymbol{Y} &= \\begin{bmatrix}\n",
    "        y_1 \\\\\n",
    "        y_2 \\\\\n",
    "        \\dots \\\\ \n",
    "        y_N\n",
    "    \\end{bmatrix}, \\\\\n",
    "    \\boldsymbol{A} &= \\begin{bmatrix}\n",
    "        1 & x_1 \\\\\n",
    "        1 & x_2 \\\\\n",
    "    \\dots & \\dots\\\\ \n",
    "        1 & x_N\n",
    "    \\end{bmatrix}, \\\\\n",
    "        \\boldsymbol{C} &= \\begin{bmatrix}\n",
    "        \\sigma^2_{y_1} & 0 & \\dots & 0 \\\\\n",
    "        0 &  \\sigma^2_{y_2} & \\dots & 0 \\\\\n",
    "        \\dots & \\dots & \\dots & \\dots & \\\\\n",
    "        0 & 0 & \\dots & \\sigma^2_{y_N} \\\\\n",
    "    \\end{bmatrix}\n",
    "\\end{align*}"
   ]
  },
  {
   "cell_type": "code",
   "execution_count": 157,
   "metadata": {},
   "outputs": [],
   "source": [
    "x, y, sigma_y = table[:, 5:][:3] # columns for x, y, and sigma_y\n",
    "\n",
    "A = np.vstack([np.ones(len(x)), x]).T\n",
    "C = np.diag(sigma_y**2)\n",
    "Y = y"
   ]
  },
  {
   "cell_type": "markdown",
   "metadata": {},
   "source": [
    "We can then solve the normal equations:\n",
    "\n",
    "\\begin{align*}\n",
    "    \\begin{bmatrix}\n",
    "        b \\\\ m\n",
    "    \\end{bmatrix}\n",
    "     = \\boldsymbol{X} = \\left[ \\boldsymbol{A}^{\\mathrm{T}}  \\boldsymbol{C}^{\\mathrm{-1}} \\boldsymbol{A} \\right]^{-1} \\left[ \\boldsymbol{A}^{\\mathrm{T}}  \\boldsymbol{C}^{\\mathrm{-1}} \\boldsymbol{Y} \\right]\n",
    "\\end{align*}"
   ]
  },
  {
   "cell_type": "markdown",
   "metadata": {},
   "source": []
  },
  {
   "cell_type": "code",
   "execution_count": 120,
   "metadata": {},
   "outputs": [],
   "source": [
    "def solve_normal_equations(A: Matrix, C: Matrix, Y: Vector) -> Vector:\n",
    "    \"\"\"Solves the equation X = [A^T C^{-1} A]^{-1} [A^T C^{-1} Y].\"\"\"\n",
    "    C_inv = np.linalg.inv(C)\n",
    "    sigma_inv = np.linalg.inv(A.T @ C_inv @ A)\n",
    "    return sigma_inv @ (A.T @ C_inv @ Y)\n",
    "    "
   ]
  },
  {
   "cell_type": "code",
   "execution_count": 121,
   "metadata": {},
   "outputs": [
    {
     "data": {
      "text/plain": [
       "(34.845941313398725, 2.2325362169534166)"
      ]
     },
     "execution_count": 121,
     "metadata": {},
     "output_type": "execute_result"
    }
   ],
   "source": [
    "b, m = solve_normal_equations(A, C, Y)\n",
    "b, m"
   ]
  },
  {
   "cell_type": "markdown",
   "metadata": {},
   "source": [
    "To get the uncertianties $\\sigma_b$ and $\\sigma_m$ we need to take the diagonal of the covariance matrix \n",
    "\\begin{equation*}\n",
    "\\begin{bmatrix}\n",
    "\\sigma_b \\\\ \n",
    "\\sigma_m\n",
    "\\end{bmatrix} = \\mathrm{diag}\\left( \n",
    "    \\begin{bmatrix}\n",
    "    \\sigma_b^2 & \\sigma_{mb}\\\\\n",
    "    \\sigma_{mb} & \\sigma_m^2\n",
    "    \\end{bmatrix}\n",
    " \\right)\n",
    "\\end{equation*},\n",
    "where\n",
    "\\begin{equation*}\n",
    "    \\begin{bmatrix}\n",
    "    \\sigma_b^2 & \\sigma_{mb}\\\\\n",
    "    \\sigma_{mb} & \\sigma_m^2\n",
    "    \\end{bmatrix} = \n",
    "    \\left[ \\boldsymbol{A}^{\\mathrm{T}}  \\boldsymbol{C}^{\\mathrm{-1}} \\boldsymbol{A} \\right]^{-1}\n",
    "\\end{equation*}\n",
    "is the covariance matrix"
   ]
  },
  {
   "cell_type": "code",
   "execution_count": 122,
   "metadata": {},
   "outputs": [],
   "source": [
    "def get_sigma_X(A: Matrix, C: Matrix) -> Vector:\n",
    "    \"\"\"Computes the uncertianty of the variables fit.\"\"\"\n",
    "    C_inv = np.linalg.inv(C)\n",
    "    sigma_inv = np.linalg.inv(A.T @ C_inv @ A)\n",
    "    return np.sqrt(sigma_inv.diagonal())"
   ]
  },
  {
   "cell_type": "code",
   "execution_count": 123,
   "metadata": {},
   "outputs": [
    {
     "data": {
      "text/plain": [
       "(18.42264040708828, 0.11031991507180255)"
      ]
     },
     "execution_count": 123,
     "metadata": {},
     "output_type": "execute_result"
    }
   ],
   "source": [
    "sigma_b, sigma_m = get_sigma_X(A, C)\n",
    "sigma_b, sigma_m"
   ]
  },
  {
   "cell_type": "markdown",
   "metadata": {},
   "source": [
    "We plot the data and the best fit line $y = mx + b$ along with the uncertianties in $m$ and $b$:"
   ]
  },
  {
   "cell_type": "code",
   "execution_count": 124,
   "metadata": {},
   "outputs": [],
   "source": [
    "def evaluate_linear_model(x: Vector, b: float, m: float) -> Vector:\n",
    "    \"\"\"Evaluate the linear model in excercise 1.\"\"\"\n",
    "    return m * x + b"
   ]
  },
  {
   "cell_type": "code",
   "execution_count": 125,
   "metadata": {},
   "outputs": [
    {
     "data": {
      "text/plain": [
       "Text(0, 0.5, '$y$')"
      ]
     },
     "execution_count": 125,
     "metadata": {},
     "output_type": "execute_result"
    },
    {
     "data": {
      "image/png": "[encoded data removed]",
      "text/plain": [
       "<Figure size 640x480 with 1 Axes>"
      ]
     },
     "metadata": {},
     "output_type": "display_data"
    }
   ],
   "source": [
    "x_new = np.linspace(0, 300, 20) \n",
    "y_hat = evaluate_linear_model(x_new, b, m)\n",
    "\n",
    "plt.errorbar(x, y, yerr=sigma_y, fmt=\"o\")\n",
    "plt.plot(x_new, y_hat, label=rf\"$y = {{{m:.2f}}} \\pm {{{sigma_m:.2f}}}x + {b:.2f} \\pm {{{sigma_b:.2f}}}$\")\n",
    "plt.legend()\n",
    "plt.xlabel(\"$x$\")\n",
    "plt.ylabel(\"$y$\")"
   ]
  },
  {
   "cell_type": "markdown",
   "metadata": {},
   "source": [
    "## Exercise 2:\n",
    "\n",
    "We repeat the above calculating but for all the data points in the original table"
   ]
  },
  {
   "cell_type": "code",
   "execution_count": 126,
   "metadata": {},
   "outputs": [
    {
     "data": {
      "text/plain": [
       "(213.2734919759614, 1.0767475241683258)"
      ]
     },
     "execution_count": 126,
     "metadata": {},
     "output_type": "execute_result"
    }
   ],
   "source": [
    "x, y, sigma_y = table[:3]\n",
    "A = np.vstack([np.ones(len(x)), x]).T\n",
    "C = np.diag(sigma_y**2)\n",
    "Y = y\n",
    "\n",
    "b, m = solve_normal_equations(A, C, Y)\n",
    "b, m"
   ]
  },
  {
   "cell_type": "code",
   "execution_count": 127,
   "metadata": {},
   "outputs": [
    {
     "data": {
      "text/plain": [
       "(14.39403310716221, 0.0774067831657561)"
      ]
     },
     "execution_count": 127,
     "metadata": {},
     "output_type": "execute_result"
    }
   ],
   "source": [
    "sigma_b, sigma_m = get_sigma_X(A, C)\n",
    "sigma_b, sigma_m"
   ]
  },
  {
   "cell_type": "code",
   "execution_count": 128,
   "metadata": {},
   "outputs": [
    {
     "data": {
      "text/plain": [
       "Text(0, 0.5, '$y$')"
      ]
     },
     "execution_count": 128,
     "metadata": {},
     "output_type": "execute_result"
    },
    {
     "data": {
      "image/png": "[encoded data removed]",
      "text/plain": [
       "<Figure size 640x480 with 1 Axes>"
      ]
     },
     "metadata": {},
     "output_type": "display_data"
    }
   ],
   "source": [
    "x_new = np.linspace(0, 300, 20) \n",
    "y_hat = evaluate_linear_model(x_new, b, m)\n",
    "\n",
    "plt.errorbar(x, y, yerr=sigma_y, fmt=\"o\")\n",
    "plt.plot(x_new, y_hat, label=rf\"$y = ({{{m:.2f}}} \\pm {{{sigma_m:.2f}}})x + ({b:.2f} \\pm {{{sigma_b:.2f}}})$\")\n",
    "plt.legend()\n",
    "plt.xlabel(\"$x$\")\n",
    "plt.ylabel(\"$y$\")"
   ]
  },
  {
   "cell_type": "markdown",
   "metadata": {},
   "source": [
    "The new data points are some pretty big outliers which result in half as big of a slope. "
   ]
  },
  {
   "cell_type": "markdown",
   "metadata": {},
   "source": [
    "## Exercise 3:\n",
    "We will now repeat the fit in exercise one but with a quadratic equation on the form $g(x) = q x^2 + m x + b$"
   ]
  },
  {
   "cell_type": "code",
   "execution_count": 129,
   "metadata": {},
   "outputs": [],
   "source": [
    "def evaluate_quadratic_model(x: Vector, q: float, m: float, b: float) -> Vector:\n",
    "    \"\"\"Evaluate the quadratic model in exercise 3.\"\"\"\n",
    "    return q * x**2 + m * x + b"
   ]
  },
  {
   "cell_type": "markdown",
   "metadata": {},
   "source": [
    "We can solve for $q$, $m$, and $b$ using the same method as before by adding another column to the matrix $\\boldsymbol{A}$ which contains the $x^2$ values:\n",
    "\n",
    "\\begin{align}\n",
    "    \\boldsymbol{A} &= \\begin{bmatrix}\n",
    "        1 & x_1 & x_1^2 \\\\\n",
    "        1 & x_2 & x_2^2 \\\\\n",
    "         & \\dots &  \\\\ \n",
    "        1 & x_N & x_N^2\n",
    "    \\end{bmatrix}. \\\\\n",
    "\\end{align}\n",
    "\n",
    "Solving the normal equations now give us an additional fit for $q$:\n",
    "\n",
    "\\begin{align*}\n",
    "    \\begin{bmatrix}\n",
    "        b \\\\ m \\\\ q\n",
    "    \\end{bmatrix}\n",
    "     = \\boldsymbol{X} = \\left[ \\boldsymbol{A}^{\\mathrm{T}}  \\boldsymbol{C}^{\\mathrm{-1}} \\boldsymbol{A} \\right]^{-1} \\left[ \\boldsymbol{A}^{\\mathrm{T}}  \\boldsymbol{C}^{\\mathrm{-1}} \\boldsymbol{Y} \\right]\n",
    "\\end{align*}"
   ]
  },
  {
   "cell_type": "code",
   "execution_count": 130,
   "metadata": {},
   "outputs": [
    {
     "data": {
      "text/plain": [
       "(72.57649611682064, 1.6045304764425055, 0.002254145076158398)"
      ]
     },
     "execution_count": 130,
     "metadata": {},
     "output_type": "execute_result"
    }
   ],
   "source": [
    "x, y, sigma_y = table[:, 5:][0:3]\n",
    "A = np.vstack([np.ones(len(x)), x, x**2]).T\n",
    "C = np.diag(sigma_y**2)\n",
    "Y = y\n",
    "\n",
    "b, m, q = solve_normal_equations(A, C, Y)\n",
    "b, m, q"
   ]
  },
  {
   "cell_type": "markdown",
   "metadata": {},
   "source": [
    "We then get the uncertianties like earlier:"
   ]
  },
  {
   "cell_type": "code",
   "execution_count": 131,
   "metadata": {},
   "outputs": [
    {
     "data": {
      "text/plain": [
       "(38.956134622701214, 0.5818712155922691, 0.002050669814280644)"
      ]
     },
     "execution_count": 131,
     "metadata": {},
     "output_type": "execute_result"
    }
   ],
   "source": [
    "sigma_b, sigma_m, sigma_q = get_sigma_X(A, C)\n",
    "sigma_b, sigma_m, sigma_q"
   ]
  },
  {
   "cell_type": "code",
   "execution_count": 132,
   "metadata": {},
   "outputs": [
    {
     "data": {
      "text/plain": [
       "Text(0, 0.5, '$y$')"
      ]
     },
     "execution_count": 132,
     "metadata": {},
     "output_type": "execute_result"
    },
    {
     "data": {
      "image/png": "[encoded data removed]",
      "text/plain": [
       "<Figure size 640x480 with 1 Axes>"
      ]
     },
     "metadata": {},
     "output_type": "display_data"
    }
   ],
   "source": [
    "x_new = np.linspace(0, 300, 20) \n",
    "y_hat = evaluate_quadratic_model(x_new, q, m, b)\n",
    "\n",
    "plt.errorbar(x, y, yerr=sigma_y, fmt=\"o\")\n",
    "plt.plot(x_new, y_hat, label=rf\"$y = ({{{q:.4f}}} \\pm {{{sigma_q:.4f}}})x^2 + ({{{m:.2f}}} \\pm {{{sigma_m:.2f}}})x + ({b:.2f} \\pm {{{sigma_b:.2f}}})$\")\n",
    "plt.legend()\n",
    "plt.xlabel(\"$x$\")\n",
    "plt.ylabel(\"$y$\")"
   ]
  },
  {
   "cell_type": "markdown",
   "metadata": {},
   "source": [
    "## Exercise 10:\n",
    "We want to compute the $\\chi^2$, the total error squared scaled by the uncertianties, of the model in exercise 1. The chi^2 is given by\n",
    "\\begin{equation*}\n",
    "    \\chi^2 = \\sum^N_{i=1} \\frac{\\left[ y_i - f(x_i) \\right]^2}{\\sigma^2_{y_i}}\n",
    "\\end{equation*},\n",
    "which in linear algebra notation is\n",
    "\\begin{equation*}\n",
    "\\chi^2 \\equiv \\left[ \\boldsymbol{Y} - \\boldsymbol{A}\\boldsymbol{X} \\right]^T \\boldsymbol{C}^{-1} \\left[ \\boldsymbol{Y} - \\boldsymbol{A}\\boldsymbol{X} \\right]\n",
    "\\end{equation*}.\n",
    "\n",
    "Below we implement the two definitions of the $\\chi^2$:"
   ]
  },
  {
   "cell_type": "code",
   "execution_count": 133,
   "metadata": {},
   "outputs": [],
   "source": [
    "def get_chi_squared(y: Vector, fn: Function, x: Vector, sigma_y: Vector) -> float:\n",
    "    \"\"\"Computes the chi squared value.\"\"\"\n",
    "    return np.sum((y - fn(x))**2 / sigma_y**2)\n",
    "\n",
    "def get_chi_squared_linalg(A: Matrix, C: Matrix, Y: Vector, X: Vector) -> float:\n",
    "    \"\"\"Computes the chi squared value in matrix notation.\"\"\"\n",
    "    return (Y - A @ X).T @ np.linalg.inv(C) @ (Y - A @ X)"
   ]
  },
  {
   "cell_type": "markdown",
   "metadata": {},
   "source": [
    "We make sure they return the same $\\chi^2$ for the same model ($f(x)$ or $\\boldsymbol{A}\\boldsymbol{X}$):"
   ]
  },
  {
   "cell_type": "code",
   "execution_count": 137,
   "metadata": {},
   "outputs": [
    {
     "data": {
      "text/plain": [
       "(18.582309526605396, 18.582309526605393)"
      ]
     },
     "execution_count": 137,
     "metadata": {},
     "output_type": "execute_result"
    }
   ],
   "source": [
    "x, y, sigma_y = table[:, 5:][0:3] # columns for x, y, and sigma_y as before in excerise 1\n",
    "\n",
    "A = np.vstack([np.ones(len(x)), x]).T\n",
    "C = np.diag(sigma_y**2)\n",
    "Y = y\n",
    "b, m = solve_normal_equations(A, C, Y)\n",
    "\n",
    "eval_model_ex1 = partial(evaluate_linear_model, b=b, m=m) # make a partial function with the fitted parameters for the linear model\n",
    "\n",
    "chisq1 = get_chi_squared(y, eval_model_ex1, x, sigma_y)\n",
    "chisq2 = get_chi_squared_linalg(A, C, Y, [b, m])\n",
    "chisq1, chisq2"
   ]
  },
  {
   "cell_type": "markdown",
   "metadata": {},
   "source": [
    "We now do the same $\\chi^2$ evaluation but for the model in exercise 2 where we have included the *bad* data points:"
   ]
  },
  {
   "cell_type": "code",
   "execution_count": 170,
   "metadata": {},
   "outputs": [
    {
     "name": "stdout",
     "output_type": "stream",
     "text": [
      "(20, 20)\n"
     ]
    },
    {
     "data": {
      "text/plain": [
       "(289.9637227819993, 289.9637227819993)"
      ]
     },
     "execution_count": 170,
     "metadata": {},
     "output_type": "execute_result"
    }
   ],
   "source": [
    "x, y, sigma_y = table[0:3] # columns for x, y, and sigma_y as before in excerise 1\n",
    "\n",
    "A = np.vstack([np.ones(len(x)), x]).T\n",
    "C = np.diag(sigma_y**2)\n",
    "Y = y\n",
    "b, m = solve_normal_equations(A, C, Y)\n",
    "\n",
    "eval_model_ex1 = partial(evaluate_linear_model, b=b, m=m) # make a partial function with the fitted parameters for the linear model\n",
    "\n",
    "chisq1 = get_chi_squared(y, eval_model_ex1, x, sigma_y)\n",
    "chisq2 = get_chi_squared_linalg(A, C, Y, [b, m])\n",
    "chisq1, chisq2"
   ]
  },
  {
   "cell_type": "markdown",
   "metadata": {},
   "source": [
    "The $\\chi^2$ in the second exercise is much larger than the one in exercise 1 as was expected from the inclusion of the data points that didnt appear to fit the linear model. "
   ]
  },
  {
   "cell_type": "markdown",
   "metadata": {},
   "source": [
    "## Exercise 13:\n",
    "What happens if we now include the uncertianties to the $x$ positions, $\\sigma_x$?"
   ]
  },
  {
   "cell_type": "code",
   "execution_count": 194,
   "metadata": {},
   "outputs": [],
   "source": [
    "x, y, sigma_y, sigma_x = table[:, 5:][:4]\n",
    "\n",
    "\n",
    "\n",
    "\n"
   ]
  },
  {
   "cell_type": "code",
   "execution_count": null,
   "metadata": {},
   "outputs": [],
   "source": []
  }
 ],
 "metadata": {
  "kernelspec": {
   "display_name": "py311",
   "language": "python",
   "name": "python3"
  },
  "language_info": {
   "codemirror_mode": {
    "name": "ipython",
    "version": 3
   },
   "file_extension": ".py",
   "mimetype": "text/x-python",
   "name": "python",
   "nbconvert_exporter": "python",
   "pygments_lexer": "ipython3",
   "version": "3.11.0"
  }
 },
 "nbformat": 4,
 "nbformat_minor": 2
}

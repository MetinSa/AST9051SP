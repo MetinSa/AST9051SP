{
 "cells": [
  {
   "cell_type": "markdown",
   "metadata": {},
   "source": []
  },
  {
   "cell_type": "markdown",
   "metadata": {},
   "source": [
    "## This notebook contains solutions to exercises 1, 2, 3, 10, 12 in Data analysis recipies: Fitting a model to data by David Hogg, Jo Bovy, and Dustin Lang."
   ]
  },
  {
   "cell_type": "markdown",
   "metadata": {},
   "source": [
    "# Exercise 1: \n",
    "Use the standard linear algebra from Section 1. to fit the straight line $y = mx + b$ to the $x$, $y$, and $sigma_y$ values provided in the file `hogg-table1.txt`. We ignore the first four data points in the table."
   ]
  },
  {
   "cell_type": "markdown",
   "metadata": {},
   "source": []
  },
  {
   "cell_type": "code",
   "execution_count": 45,
   "metadata": {},
   "outputs": [],
   "source": [
    "# general imports for all coming exercises\n",
    "import numpy as np\n",
    "import matplotlib.pyplot as plt\n",
    "from pathlib import Path\n",
    "\n",
    "# Set new color cycler\n",
    "from cycler import cycler\n",
    "import matplotlib as mpl\n",
    "import plotly.express as px\n",
    "\n",
    "# Types\n",
    "from typing import TypeAlias\n",
    "Matrix: TypeAlias = np.ndarray\n",
    "Vector: TypeAlias = np.ndarray\n",
    "\n",
    "mpl.rcParams[\"axes.prop_cycle\"] = cycler(color=px.colors.qualitative.Plotly)\n",
    "mpl.rcParams[\"text.usetex\"] = True\n",
    "\n",
    "TABLE_FILE = Path(\"hogg-table1.txt\")\n",
    "table = np.loadtxt(TABLE_FILE, usecols=(1, 2, 3, 4, 5), unpack=True)\n"
   ]
  },
  {
   "cell_type": "markdown",
   "metadata": {},
   "source": [
    "We start by aranging the data in the table in to the vectors/matrices:\n",
    "\\begin{align*}\n",
    "    \\boldsymbol{Y} &= \\begin{bmatrix}\n",
    "        y_1 \\\\\n",
    "        y_2 \\\\\n",
    "        \\dots \\\\ \n",
    "        y_N\n",
    "    \\end{bmatrix}, \\\\\n",
    "    \\boldsymbol{A} &= \\begin{bmatrix}\n",
    "        1 & x_1 \\\\\n",
    "        1 & x_2 \\\\\n",
    "        1 & \\dots \\\\ \n",
    "        1 & x_N\n",
    "    \\end{bmatrix}, \\\\\n",
    "        \\boldsymbol{C} &= \\begin{bmatrix}\n",
    "        \\sigma^2_{y_1} & 0 & \\dots & 0 \\\\\n",
    "        0 &  \\sigma^2_{y_2} & \\dots & 0 \\\\\n",
    "        & & \\dots & & \\\\\n",
    "        0 & 0 & \\dots & \\sigma^2_{y_N} \\\\\n",
    "    \\end{bmatrix}\n",
    "\\end{align*}"
   ]
  },
  {
   "cell_type": "code",
   "execution_count": 46,
   "metadata": {},
   "outputs": [],
   "source": [
    "X, Y, sigma_y = table[:, 5:][0:3] # columns for x, y, and sigma_y\n",
    "\n",
    "A = np.vstack([np.ones(len(X)), X]).T\n",
    "C = np.diag(sigma_y**2)"
   ]
  },
  {
   "cell_type": "markdown",
   "metadata": {},
   "source": [
    "We can then solve the normal equations:\n",
    "\n",
    "\\begin{align*}\n",
    "    \\begin{bmatrix}\n",
    "        b \\\\ m\n",
    "    \\end{bmatrix}\n",
    "     = \\boldsymbol{X} = \\left[ \\boldsymbol{A}^{\\mathrm{T}}  \\boldsymbol{C}^{\\mathrm{-1}} \\boldsymbol{A} \\right]^{-1} \\left[ \\boldsymbol{A}^{\\mathrm{T}}  \\boldsymbol{C}^{\\mathrm{-1}} \\boldsymbol{Y} \\right]\n",
    "\\end{align*}"
   ]
  },
  {
   "cell_type": "markdown",
   "metadata": {},
   "source": []
  },
  {
   "cell_type": "code",
   "execution_count": null,
   "metadata": {},
   "outputs": [],
   "source": [
    "def solve_normal_equations(A: Matrix, C: Matrix, Y: Vector) -> Vector:\n",
    "    "
   ]
  },
  {
   "cell_type": "code",
   "execution_count": 47,
   "metadata": {},
   "outputs": [
    {
     "data": {
      "text/plain": [
       "(34.845941313398725, 2.2325362169534166)"
      ]
     },
     "execution_count": 47,
     "metadata": {},
     "output_type": "execute_result"
    }
   ],
   "source": [
    "C_inv = np.linalg.inv(C)\n",
    "sigma_inv = np.linalg.inv(A.T @ C_inv @ A)\n",
    "b, m = sigma_inv @ (A.T @ C_inv @ Y) # best fit intercept (b) and slope (m)\n",
    "b, m"
   ]
  },
  {
   "cell_type": "markdown",
   "metadata": {},
   "source": []
  },
  {
   "cell_type": "markdown",
   "metadata": {},
   "source": [
    "We plot the data and the best fit line $y = mx + b$:"
   ]
  },
  {
   "cell_type": "code",
   "execution_count": 52,
   "metadata": {},
   "outputs": [
    {
     "data": {
      "text/plain": [
       "Text(0, 0.5, '$y$')"
      ]
     },
     "execution_count": 52,
     "metadata": {},
     "output_type": "execute_result"
    },
    {
     "data": {
      "image/png": "[encoded data removed]",
      "text/plain": [
       "<Figure size 640x480 with 1 Axes>"
      ]
     },
     "metadata": {},
     "output_type": "display_data"
    }
   ],
   "source": [
    "x = np.linspace(0, 300, 20) \n",
    "y_hat = m * x + b # best fit line\n",
    "\n",
    "sigma_b, sigma_m = np.sqrt(sigma_inv.diagonal()) # standard deviation of the intercept and slope\n",
    "\n",
    "plt.errorbar(X, Y, yerr=sigma_y, fmt=\"o\", capsize=3)\n",
    "plt.plot(x, y_hat, label=rf\"$y = {{{m:.2f}}} \\pm {{{sigma_m:.2f}}}x + {b:.2f} \\pm {{{sigma_b:.2f}}}$\")\n",
    "plt.legend()\n",
    "plt.xlabel(\"$x$\")\n",
    "plt.ylabel(\"$y$\")"
   ]
  },
  {
   "cell_type": "markdown",
   "metadata": {},
   "source": [
    "## Exercise 2:\n",
    "\n",
    "We repeat the above calculating but for all the data points in the original table"
   ]
  },
  {
   "cell_type": "code",
   "execution_count": 54,
   "metadata": {},
   "outputs": [
    {
     "data": {
      "text/plain": [
       "(213.2734919759614, 1.0767475241683258)"
      ]
     },
     "execution_count": 54,
     "metadata": {},
     "output_type": "execute_result"
    }
   ],
   "source": [
    "X, Y, sigma_y = table[0:3] # columns for x, y, and sigma_y\n",
    "\n",
    "A = np.vstack([np.ones(len(X)), X]).T\n",
    "C = np.diag(sigma_y**2)\n",
    "C_inv = np.linalg.inv(C)\n",
    "sigma_inv = np.linalg.inv(A.T @ C_inv @ A)\n",
    "b, m = sigma_inv @ (A.T @ C_inv @ Y) # best fit intercept (b) and slope (m)\n",
    "b, m"
   ]
  },
  {
   "cell_type": "code",
   "execution_count": 55,
   "metadata": {},
   "outputs": [
    {
     "data": {
      "text/plain": [
       "Text(0, 0.5, '$y$')"
      ]
     },
     "execution_count": 55,
     "metadata": {},
     "output_type": "execute_result"
    },
    {
     "data": {
      "image/png": "[encoded data removed]",
      "text/plain": [
       "<Figure size 640x480 with 1 Axes>"
      ]
     },
     "metadata": {},
     "output_type": "display_data"
    }
   ],
   "source": [
    "x = np.linspace(0, 300, 20) \n",
    "y_hat = m * x + b # best fit line\n",
    "\n",
    "sigma_b, sigma_m = np.sqrt(sigma_inv.diagonal()) # standard deviation of the intercept and slope\n",
    "\n",
    "plt.errorbar(X, Y, yerr=sigma_y, fmt=\"o\", capsize=3)\n",
    "plt.plot(x, y_hat, label=rf\"$y = {{{m:.2f}}} \\pm {{{sigma_m:.2f}}}x + {b:.2f} \\pm {{{sigma_b:.2f}}}$\")\n",
    "plt.legend()\n",
    "plt.xlabel(\"$x$\")\n",
    "plt.ylabel(\"$y$\")"
   ]
  },
  {
   "cell_type": "markdown",
   "metadata": {},
   "source": [
    "The new data points are some pretty big outliers which result in half as big of a slope. "
   ]
  },
  {
   "cell_type": "markdown",
   "metadata": {},
   "source": [
    "Generalize the method of this Section to fit a general quadratic\n",
    "(second order) relationship. Add another column to matrix A containing the\n",
    "values x2\n",
    "i , and another element to vector X (call it q). Then re-do Exercise 1\n",
    "but fitting for and plotting the best quadratic relationship\n",
    "g(x) = q x2 + m x + b . (8)\n",
    "Your plot should end up looking like Figure 3."
   ]
  },
  {
   "cell_type": "markdown",
   "metadata": {},
   "source": [
    "## Exercise 3:\n",
    "We will now repeat the fit in exercise one but with a quadratic equation on the form $g(x) = q x^2 + m x + b$. We can do so by adding another column to the matrix $\\boldsymbol{A}$ which contains the $x^2$ values:\n",
    "\n",
    "\\begin{align}\n",
    "    \\boldsymbol{A} &= \\begin{bmatrix}\n",
    "        1 & x_1 & x_2 \\\\\n",
    "        1 & x_2 & x_2 \\\\\n",
    "        1 & \\dots & \\dots \\\\ \n",
    "        1 & x_N & x_2\n",
    "    \\end{bmatrix}. \\\\\n",
    "\\end{align}\n",
    "\n",
    "Solving the normal equations now give us an additional fit for $q$:\n",
    "\n",
    "\\begin{align*}\n",
    "    \\begin{bmatrix}\n",
    "        b \\\\ m \\\\ q\n",
    "    \\end{bmatrix}\n",
    "     = \\boldsymbol{X} = \\left[ \\boldsymbol{A}^{\\mathrm{T}}  \\boldsymbol{C}^{\\mathrm{-1}} \\boldsymbol{A} \\right]^{-1} \\left[ \\boldsymbol{A}^{\\mathrm{T}}  \\boldsymbol{C}^{\\mathrm{-1}} \\boldsymbol{Y} \\right]\n",
    "\\end{align*}"
   ]
  },
  {
   "cell_type": "markdown",
   "metadata": {},
   "source": []
  },
  {
   "cell_type": "code",
   "execution_count": null,
   "metadata": {},
   "outputs": [],
   "source": []
  }
 ],
 "metadata": {
  "kernelspec": {
   "display_name": "py311",
   "language": "python",
   "name": "python3"
  },
  "language_info": {
   "codemirror_mode": {
    "name": "ipython",
    "version": 3
   },
   "file_extension": ".py",
   "mimetype": "text/x-python",
   "name": "python",
   "nbconvert_exporter": "python",
   "pygments_lexer": "ipython3",
   "version": "3.11.0"
  }
 },
 "nbformat": 4,
 "nbformat_minor": 2
}
